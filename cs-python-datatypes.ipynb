{
 "cells": [
  {
   "cell_type": "markdown",
   "metadata": {},
   "source": [
    "# Introduction\n",
    "\n",
    "We use variables in our programs to store data.  Each variable has a name and stores data of a certain type (string, integer, real etc).  In Python we do not have to explicitly state the data type being stored, it will work this out for itself when the variable is first used.  In this section we will just use string variables.  String is the programming term for text (i.e. letters, numbers and symbols).\n",
    "Variable names can contain letters and numbers but should always start with a letter.\n",
    "We assign a value to a variable using =\n",
    "\n",
    "Task 1"
   ]
  },
  {
   "cell_type": "code",
   "execution_count": 3,
   "metadata": {},
   "outputs": [
    {
     "name": "stdout",
     "output_type": "stream",
     "text": [
      "Hello Bob\n"
     ]
    }
   ],
   "source": [
    "# run the following lines of code:\n",
    "name='Bob'\n",
    "print('Hello '+name)"
   ]
  },
  {
   "cell_type": "markdown",
   "metadata": {},
   "source": [
    "## Calculations\n",
    "\n",
    "We can carry out calculations in Python.  The arithmetic operators we use to do this are:\n",
    " (+)  addition\n",
    " (-)  subtraction\n",
    " (*)  multiplication\n",
    " (/) division\n",
    " \n",
    "Task 2"
   ]
  },
  {
   "cell_type": "code",
   "execution_count": 5,
   "metadata": {},
   "outputs": [
    {
     "name": "stdout",
     "output_type": "stream",
     "text": [
      "7\n",
      "2\n",
      "27\n",
      "3.5\n"
     ]
    }
   ],
   "source": [
    "print(1+6)\n",
    "print(7-5)\n",
    "print(3*9)\n",
    "print(7/2)"
   ]
  },
  {
   "cell_type": "code",
   "execution_count": 4,
   "metadata": {},
   "outputs": [
    {
     "name": "stdout",
     "output_type": "stream",
     "text": [
      "7\n",
      "2\n",
      "27\n",
      "3.5\n"
     ]
    }
   ],
   "source": []
  },
  {
   "cell_type": "markdown",
   "metadata": {},
   "source": [
    "Task 3\n",
    "Try changing the calculations to new ones.\n",
    " \n",
    "We can put the results of calculations into variables.  These variables will not be string but integer (whole numbers) or float (decimal)."
   ]
  },
  {
   "cell_type": "code",
   "execution_count": 6,
   "metadata": {},
   "outputs": [
    {
     "name": "stdout",
     "output_type": "stream",
     "text": [
      "5.0\n"
     ]
    }
   ],
   "source": [
    "a=10\n",
    "b=2\n",
    "c=a/b\n",
    "print(c)"
   ]
  },
  {
   "cell_type": "markdown",
   "metadata": {},
   "source": [
    "## Datatypes\n",
    "Every variable has a given data type.  The most common data types are:\n",
    " \n",
    "String  - Text made up of numbers, letters and characters.\n",
    "\n",
    "Integer - Whole numbers. (e.g. 1, 78, 0 and -54)\n",
    "\n",
    "Float - Decimal numbers (e.g. 3.5683, 98.74634, -6.3).  Float comes under the umbrella of what we often refer to as Real numbers.\n",
    "\n",
    "Boolean - True or False\n",
    " \n",
    "In some languages we have to tell the computer what data type a variable is going to be.  Python, on the other hand, is able to decide the data type of the variable according to what value it is first given (or to use the correct term what it is initialised with). This can cause problems when we try to do something with the wrong data type.\n",
    " \n",
    "Copy and run the following program. "
   ]
  },
  {
   "cell_type": "markdown",
   "metadata": {},
   "source": [
    " a=input(\"Enter number 1:\")\n",
    "b=input('Enter number 2:')\n",
    "c=a+b\n",
    "\n",
    "print('Adding your numbers together gives:'+c)"
   ]
  },
  {
   "cell_type": "markdown",
   "metadata": {},
   "source": [
    "If you enter the numbers 5 and 4 it will output 54.  This is because Python treats anything received through the input function as a string.  We need to tell Python we want to convert this string to an integer before putting it into the variable.  This is done using type casting.\n",
    " \n",
    "To cast data to an integer we use int()\n",
    " \n",
    "Try the program now:"
   ]
  },
  {
   "cell_type": "code",
   "execution_count": 11,
   "metadata": {},
   "outputs": [
    {
     "name": "stdout",
     "output_type": "stream",
     "text": [
      "Enter number 1:5\n",
      "Enter number 2:4\n",
      "Adding your numbers together gives: 9\n"
     ]
    }
   ],
   "source": [
    "a = int(input('Enter number 1:'))\n",
    "b = int(input('Enter number 2:'))\n",
    "c=a+b\n",
    "print('Adding your numbers together gives:',c)"
   ]
  },
  {
   "cell_type": "markdown",
   "metadata": {},
   "source": [
    "This time you will get an error in line 4:\n",
    "TypeError: Can't convert 'int' object to str implicitly\n",
    " \n",
    "Explain why and write down the reason. "
   ]
  },
  {
   "cell_type": "markdown",
   "metadata": {},
   "source": [
    "## Mathematical operators\n",
    " \n",
    "Task 4 Try using the following operators and note down the results"
   ]
  },
  {
   "cell_type": "markdown",
   "metadata": {},
   "source": [
    "60/5\n",
    "\n",
    "987+34\n",
    "\n",
    "564*89\n",
    "\n",
    "2**5\n",
    "\n",
    "43-5\n",
    "\n",
    "11//2\n",
    "\n",
    "11%2"
   ]
  },
  {
   "cell_type": "code",
   "execution_count": 13,
   "metadata": {},
   "outputs": [
    {
     "name": "stdout",
     "output_type": "stream",
     "text": [
      "12.0\n",
      "1019\n",
      "50196\n",
      "32\n",
      "38\n",
      "5\n",
      "1\n"
     ]
    }
   ],
   "source": [
    "A = [60/5, 987+32, 564*89,2**5,43-5,11//2,11%2]\n",
    "for i in range(0,7):\n",
    "    print(A[i])"
   ]
  },
  {
   "cell_type": "markdown",
   "metadata": {},
   "source": [
    "### Task 5\n",
    "Calculate cost of carpet where the user provides the length and width of the carpet. The price of the carpet is £10 per square meter."
   ]
  },
  {
   "cell_type": "code",
   "execution_count": 14,
   "metadata": {},
   "outputs": [
    {
     "name": "stdout",
     "output_type": "stream",
     "text": [
      "Enter the length of carpet in metres: 66\n",
      "Length of carpet supplied =  66.0\n",
      "Enter the width of carpet in metres: 32.4\n",
      "Width of carpet supplied =  32.4\n",
      "Cost of carpet is =  21384.0\n"
     ]
    }
   ],
   "source": [
    "length = float(input(\"Enter the length of carpet in metres: \"))\n",
    "# ask the user to provide width\n",
    "# add your code here\n",
    " \n",
    "# print the length of the carpet\n",
    "print(\"Length of carpet supplied = \",length)\n",
    "\n",
    "# print the width and Cost of the carpet\n",
    "# add your code here\n",
    "width = float(input(\"Enter the width of carpet in metres: \"))\n",
    "print(\"Width of carpet supplied = \",width)\n",
    "square = length * width\n",
    "cost = 10 * square\n",
    "print(\"Cost of carpet is = \",cost)"
   ]
  },
  {
   "cell_type": "markdown",
   "metadata": {},
   "source": [
    "### Task 6\n",
    "Calculate volume of a cylinder when radius and height is given and print the volume"
   ]
  },
  {
   "cell_type": "code",
   "execution_count": 2,
   "metadata": {},
   "outputs": [
    {
     "name": "stdout",
     "output_type": "stream",
     "text": [
      "Radius : 6.6\n",
      "Height : 3.5\n",
      "479.0293199999999\n",
      "479.0293199999999\n"
     ]
    }
   ],
   "source": [
    "# volume = pi*radius*radius*height\n",
    "pi = 3.142\n",
    "# add your code here\n",
    "radius = float(input(\"Radius : \"))\n",
    "height = float(input(\"Height : \"))\n",
    "volume = pi * radius**2 * height\n",
    "print(volume)"
   ]
  },
  {
   "cell_type": "markdown",
   "metadata": {},
   "source": [
    "### Task 7\n",
    "Write a Python program which accepts the radius of a circle from the user and compute the area. "
   ]
  },
  {
   "cell_type": "code",
   "execution_count": 4,
   "metadata": {},
   "outputs": [
    {
     "name": "stdout",
     "output_type": "stream",
     "text": [
      "Radius : 6.6\n",
      "Height : 3.5\n",
      "478.96721596629976\n"
     ]
    }
   ],
   "source": [
    "from math import pi\n",
    "\n",
    "# you can use the value pi imported from the math library\n",
    "# add your code here\n",
    "radius = float(input(\"Radius : \"))\n",
    "height = float(input(\"Height : \"))\n",
    "volume = pi * radius**2 * height\n",
    "print(volume)\n"
   ]
  },
  {
   "cell_type": "markdown",
   "metadata": {},
   "source": [
    "### Task 8\n",
    "Write a Python program to compute the future value of a specified principal amount, rate of interest, and a number of years."
   ]
  },
  {
   "cell_type": "code",
   "execution_count": 22,
   "metadata": {},
   "outputs": [
    {
     "name": "stdout",
     "output_type": "stream",
     "text": [
      "Calculate Compound Intrest(1) or Calculate Simple Intrest(2) : 2\n",
      "Calculate Simple Intrest\n",
      "What is the amount you started with : 100\n",
      "What is the rate of intrest : 2\n",
      "How many years : 1\n",
      "200.0\n",
      "Quit(1) or Continue(2) : 2\n",
      "Starting again\n",
      "Calculate Compound Intrest(1) or Calculate Simple Intrest(2) : 1\n",
      "This is the Calculate Compound Intrest Section\n",
      "What is the amount you started with : 100\n",
      "What is the rate of intrest : 2\n",
      "How many years : 1\n",
      "102.0\n"
     ]
    },
    {
     "ename": "KeyboardInterrupt",
     "evalue": "",
     "output_type": "error",
     "traceback": [
      "\u001b[0;31m---------------------------------------------------------------------------\u001b[0m",
      "\u001b[0;31mKeyboardInterrupt\u001b[0m                         Traceback (most recent call last)",
      "\u001b[0;32m/usr/local/lib/python3.6/dist-packages/ipykernel/kernelbase.py\u001b[0m in \u001b[0;36m_input_request\u001b[0;34m(self, prompt, ident, parent, password)\u001b[0m\n\u001b[1;32m    728\u001b[0m             \u001b[0;32mtry\u001b[0m\u001b[0;34m:\u001b[0m\u001b[0;34m\u001b[0m\u001b[0m\n\u001b[0;32m--> 729\u001b[0;31m                 \u001b[0mident\u001b[0m\u001b[0;34m,\u001b[0m \u001b[0mreply\u001b[0m \u001b[0;34m=\u001b[0m \u001b[0mself\u001b[0m\u001b[0;34m.\u001b[0m\u001b[0msession\u001b[0m\u001b[0;34m.\u001b[0m\u001b[0mrecv\u001b[0m\u001b[0;34m(\u001b[0m\u001b[0mself\u001b[0m\u001b[0;34m.\u001b[0m\u001b[0mstdin_socket\u001b[0m\u001b[0;34m,\u001b[0m \u001b[0;36m0\u001b[0m\u001b[0;34m)\u001b[0m\u001b[0;34m\u001b[0m\u001b[0m\n\u001b[0m\u001b[1;32m    730\u001b[0m             \u001b[0;32mexcept\u001b[0m \u001b[0mException\u001b[0m\u001b[0;34m:\u001b[0m\u001b[0;34m\u001b[0m\u001b[0m\n",
      "\u001b[0;32m/usr/local/lib/python3.6/dist-packages/jupyter_client/session.py\u001b[0m in \u001b[0;36mrecv\u001b[0;34m(self, socket, mode, content, copy)\u001b[0m\n\u001b[1;32m    802\u001b[0m         \u001b[0;32mtry\u001b[0m\u001b[0;34m:\u001b[0m\u001b[0;34m\u001b[0m\u001b[0m\n\u001b[0;32m--> 803\u001b[0;31m             \u001b[0mmsg_list\u001b[0m \u001b[0;34m=\u001b[0m \u001b[0msocket\u001b[0m\u001b[0;34m.\u001b[0m\u001b[0mrecv_multipart\u001b[0m\u001b[0;34m(\u001b[0m\u001b[0mmode\u001b[0m\u001b[0;34m,\u001b[0m \u001b[0mcopy\u001b[0m\u001b[0;34m=\u001b[0m\u001b[0mcopy\u001b[0m\u001b[0;34m)\u001b[0m\u001b[0;34m\u001b[0m\u001b[0m\n\u001b[0m\u001b[1;32m    804\u001b[0m         \u001b[0;32mexcept\u001b[0m \u001b[0mzmq\u001b[0m\u001b[0;34m.\u001b[0m\u001b[0mZMQError\u001b[0m \u001b[0;32mas\u001b[0m \u001b[0me\u001b[0m\u001b[0;34m:\u001b[0m\u001b[0;34m\u001b[0m\u001b[0m\n",
      "\u001b[0;32m/usr/local/lib/python3.6/dist-packages/zmq/sugar/socket.py\u001b[0m in \u001b[0;36mrecv_multipart\u001b[0;34m(self, flags, copy, track)\u001b[0m\n\u001b[1;32m    466\u001b[0m         \"\"\"\n\u001b[0;32m--> 467\u001b[0;31m         \u001b[0mparts\u001b[0m \u001b[0;34m=\u001b[0m \u001b[0;34m[\u001b[0m\u001b[0mself\u001b[0m\u001b[0;34m.\u001b[0m\u001b[0mrecv\u001b[0m\u001b[0;34m(\u001b[0m\u001b[0mflags\u001b[0m\u001b[0;34m,\u001b[0m \u001b[0mcopy\u001b[0m\u001b[0;34m=\u001b[0m\u001b[0mcopy\u001b[0m\u001b[0;34m,\u001b[0m \u001b[0mtrack\u001b[0m\u001b[0;34m=\u001b[0m\u001b[0mtrack\u001b[0m\u001b[0;34m)\u001b[0m\u001b[0;34m]\u001b[0m\u001b[0;34m\u001b[0m\u001b[0m\n\u001b[0m\u001b[1;32m    468\u001b[0m         \u001b[0;31m# have first part already, only loop while more to receive\u001b[0m\u001b[0;34m\u001b[0m\u001b[0;34m\u001b[0m\u001b[0m\n",
      "\u001b[0;32mzmq/backend/cython/socket.pyx\u001b[0m in \u001b[0;36mzmq.backend.cython.socket.Socket.recv\u001b[0;34m()\u001b[0m\n",
      "\u001b[0;32mzmq/backend/cython/socket.pyx\u001b[0m in \u001b[0;36mzmq.backend.cython.socket.Socket.recv\u001b[0;34m()\u001b[0m\n",
      "\u001b[0;32mzmq/backend/cython/socket.pyx\u001b[0m in \u001b[0;36mzmq.backend.cython.socket._recv_copy\u001b[0;34m()\u001b[0m\n",
      "\u001b[0;32m/usr/local/lib/python3.6/dist-packages/zmq/backend/cython/checkrc.pxd\u001b[0m in \u001b[0;36mzmq.backend.cython.checkrc._check_rc\u001b[0;34m()\u001b[0m\n",
      "\u001b[0;31mKeyboardInterrupt\u001b[0m: ",
      "\nDuring handling of the above exception, another exception occurred:\n",
      "\u001b[0;31mKeyboardInterrupt\u001b[0m                         Traceback (most recent call last)",
      "\u001b[0;32m<ipython-input-22-94b5683418ca>\u001b[0m in \u001b[0;36m<module>\u001b[0;34m()\u001b[0m\n\u001b[1;32m     13\u001b[0m         \u001b[0mCC\u001b[0m \u001b[0;34m=\u001b[0m  \u001b[0mStarted\u001b[0m \u001b[0;34m*\u001b[0m \u001b[0;34m(\u001b[0m\u001b[0;34m(\u001b[0m\u001b[0;36m1\u001b[0m\u001b[0;34m+\u001b[0m\u001b[0mRate\u001b[0m\u001b[0;34m)\u001b[0m \u001b[0;34m**\u001b[0m\u001b[0mTime\u001b[0m\u001b[0;34m)\u001b[0m\u001b[0;34m\u001b[0m\u001b[0m\n\u001b[1;32m     14\u001b[0m         \u001b[0mprint\u001b[0m\u001b[0;34m(\u001b[0m\u001b[0mCC\u001b[0m\u001b[0;34m)\u001b[0m\u001b[0;34m\u001b[0m\u001b[0m\n\u001b[0;32m---> 15\u001b[0;31m         \u001b[0mP\u001b[0m \u001b[0;34m=\u001b[0m \u001b[0mfloat\u001b[0m\u001b[0;34m(\u001b[0m\u001b[0minput\u001b[0m\u001b[0;34m(\u001b[0m\u001b[0;34m\"Quit(1) or Continue(2) : \"\u001b[0m\u001b[0;34m)\u001b[0m\u001b[0;34m)\u001b[0m\u001b[0;34m\u001b[0m\u001b[0m\n\u001b[0m\u001b[1;32m     16\u001b[0m         \u001b[0;32mif\u001b[0m \u001b[0mP\u001b[0m \u001b[0;34m==\u001b[0m \u001b[0;36m1\u001b[0m\u001b[0;34m:\u001b[0m\u001b[0;34m\u001b[0m\u001b[0m\n\u001b[1;32m     17\u001b[0m             \u001b[0mA\u001b[0m \u001b[0;34m=\u001b[0m \u001b[0;32mFalse\u001b[0m\u001b[0;34m\u001b[0m\u001b[0m\n",
      "\u001b[0;32m/usr/local/lib/python3.6/dist-packages/ipykernel/kernelbase.py\u001b[0m in \u001b[0;36mraw_input\u001b[0;34m(self, prompt)\u001b[0m\n\u001b[1;32m    702\u001b[0m             \u001b[0mself\u001b[0m\u001b[0;34m.\u001b[0m\u001b[0m_parent_ident\u001b[0m\u001b[0;34m,\u001b[0m\u001b[0;34m\u001b[0m\u001b[0m\n\u001b[1;32m    703\u001b[0m             \u001b[0mself\u001b[0m\u001b[0;34m.\u001b[0m\u001b[0m_parent_header\u001b[0m\u001b[0;34m,\u001b[0m\u001b[0;34m\u001b[0m\u001b[0m\n\u001b[0;32m--> 704\u001b[0;31m             \u001b[0mpassword\u001b[0m\u001b[0;34m=\u001b[0m\u001b[0;32mFalse\u001b[0m\u001b[0;34m,\u001b[0m\u001b[0;34m\u001b[0m\u001b[0m\n\u001b[0m\u001b[1;32m    705\u001b[0m         )\n\u001b[1;32m    706\u001b[0m \u001b[0;34m\u001b[0m\u001b[0m\n",
      "\u001b[0;32m/usr/local/lib/python3.6/dist-packages/ipykernel/kernelbase.py\u001b[0m in \u001b[0;36m_input_request\u001b[0;34m(self, prompt, ident, parent, password)\u001b[0m\n\u001b[1;32m    732\u001b[0m             \u001b[0;32mexcept\u001b[0m \u001b[0mKeyboardInterrupt\u001b[0m\u001b[0;34m:\u001b[0m\u001b[0;34m\u001b[0m\u001b[0m\n\u001b[1;32m    733\u001b[0m                 \u001b[0;31m# re-raise KeyboardInterrupt, to truncate traceback\u001b[0m\u001b[0;34m\u001b[0m\u001b[0;34m\u001b[0m\u001b[0m\n\u001b[0;32m--> 734\u001b[0;31m                 \u001b[0;32mraise\u001b[0m \u001b[0mKeyboardInterrupt\u001b[0m\u001b[0;34m\u001b[0m\u001b[0m\n\u001b[0m\u001b[1;32m    735\u001b[0m             \u001b[0;32melse\u001b[0m\u001b[0;34m:\u001b[0m\u001b[0;34m\u001b[0m\u001b[0m\n\u001b[1;32m    736\u001b[0m                 \u001b[0;32mbreak\u001b[0m\u001b[0;34m\u001b[0m\u001b[0m\n",
      "\u001b[0;31mKeyboardInterrupt\u001b[0m: "
     ]
    },
    {
     "name": "stdout",
     "output_type": "stream",
     "text": [
      "Quit(1) or Continue(2) : 1\n"
     ]
    }
   ],
   "source": [
    "amt = 10000\n",
    "int = 3.5\n",
    "years = 7\n",
    "A = True\n",
    "while A != False:\n",
    "    Q = input(\"Calculate Compound Intrest(1) or Calculate Simple Intrest(2) : \")\n",
    "    if Q == \"1\" :\n",
    "        print(\"This is the Calculate Compound Intrest Section\")\n",
    "        Started = float(input(\"What is the amount you started with : \"))\n",
    "        Rate = float(input(\"What is the rate of intrest : \"))\n",
    "        Time = float(input(\"How many years : \"))\n",
    "        Rate = Rate / 100\n",
    "        CC =  Started * ((1+Rate) **Time)\n",
    "        print(CC)\n",
    "        P = float(input(\"Quit(1) or Continue(2) : \"))\n",
    "        if P == 1:\n",
    "            A = False\n",
    "        elif P == 2:\n",
    "            print(\"Starting again\")\n",
    "\n",
    "    elif Q == \"2\":\n",
    "        print(\"Calculate Simple Intrest\")\n",
    "        Started = float(input(\"What is the amount you started with : \"))\n",
    "        Rate = float(input(\"What is the rate of intrest : \"))\n",
    "        Time = float(input(\"How many years : \"))\n",
    "        Rate = Rate\n",
    "        SI = Started * Rate * Time\n",
    "        print(SI)\n",
    "        P = float(input(\"Quit(1) or Continue(2) : \"))\n",
    "        if P == 1:\n",
    "            A = False\n",
    "        elif P == 2:\n",
    "            print(\"Starting again\")\n",
    "    else: \n",
    "        print(\"error\")\n",
    "        \n",
    "        \n",
    "        \n",
    "\n",
    "     "
   ]
  },
  {
   "cell_type": "markdown",
   "metadata": {},
   "source": [
    "### Task 9 \n",
    "Write a program to ask the user to enter three numbers and find the largest number from a set of three numbers."
   ]
  },
  {
   "cell_type": "code",
   "execution_count": 25,
   "metadata": {},
   "outputs": [
    {
     "name": "stdout",
     "output_type": "stream",
     "text": [
      "Input first number : 7\n",
      "Input second number : 3\n",
      "Input third number : 2\n",
      "7.0\n"
     ]
    }
   ],
   "source": [
    "# add your code here\n",
    "lis = []\n",
    "n1 = float(input(\"Input first number : \"))\n",
    "lis.append(n1)\n",
    "n2 = float(input(\"Input second number : \"))\n",
    "lis.append(n2)\n",
    "n3 = float(input(\"Input third number : \"))\n",
    "lis.append(n3)\n",
    "lis.sort(reverse=False)\n",
    "print(lis[2])"
   ]
  },
  {
   "cell_type": "markdown",
   "metadata": {},
   "source": [
    "### Extension Task\n",
    "Write a program to generate and print all 3-digit numbers that equal the sum of the cubes of their individual decimal digits."
   ]
  },
  {
   "cell_type": "code",
   "execution_count": 38,
   "metadata": {},
   "outputs": [
    {
     "name": "stdout",
     "output_type": "stream",
     "text": [
      "153\n",
      "370\n",
      "371\n",
      "407\n"
     ]
    }
   ],
   "source": [
    "# the code is repeated to \n",
    "for i in range (100,1000):\n",
    "    # explain what the following lines of code are trying to do\n",
    "    hundreds = i // 100\n",
    "    units = i % 10\n",
    "    j = i // 10\n",
    "    tens = j % 10\n",
    "    hundred = hundreds * 100\n",
    "    ten = tens * 10\n",
    "    All = hundred + ten + units\n",
    "    hun = hundreds ** 3\n",
    "    te = tens ** 3\n",
    "    uni = units ** 3\n",
    "    L = hun + te + uni\n",
    "    if All == L :\n",
    "        print(All)\n",
    "\n",
    "\n"
   ]
  },
  {
   "cell_type": "code",
   "execution_count": null,
   "metadata": {},
   "outputs": [],
   "source": []
  }
 ],
 "metadata": {
  "kernelspec": {
   "display_name": "Python 3",
   "language": "python",
   "name": "python3"
  },
  "language_info": {
   "codemirror_mode": {
    "name": "ipython",
    "version": 3
   },
   "file_extension": ".py",
   "mimetype": "text/x-python",
   "name": "python",
   "nbconvert_exporter": "python",
   "pygments_lexer": "ipython3",
   "version": "3.6.5"
  }
 },
 "nbformat": 4,
 "nbformat_minor": 2
}
